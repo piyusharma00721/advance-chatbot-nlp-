{
  "cells": [
    {
      "cell_type": "markdown",
      "metadata": {
        "id": "view-in-github",
        "colab_type": "text"
      },
      "source": [
        "<a href=\"https://colab.research.google.com/github/piyusharma00721/advance-chatbot-nlp-/blob/main/colab.ipynb\" target=\"_parent\"><img src=\"https://colab.research.google.com/assets/colab-badge.svg\" alt=\"Open In Colab\"/></a>"
      ]
    },
    {
      "cell_type": "code",
      "execution_count": null,
      "metadata": {
        "colab": {
          "base_uri": "https://localhost:8080/"
        },
        "id": "-k3lvpYH7stm",
        "outputId": "66ef47e5-151a-43f8-ef8c-3ab4324e800a"
      },
      "outputs": [
        {
          "name": "stdout",
          "output_type": "stream",
          "text": [
            "Enter comma-separated integers: 2,4,6,8,3,1\n",
            "[2, 4, 6, 8, 3, 1]\n",
            "inf\n",
            "2\n",
            "1\n",
            "Second smallest integer: 2\n"
          ]
        }
      ],
      "source": [
        "#Q1 2nd smallest\n",
        "def second_smallest(arr):\n",
        "    # Splitting the input string by comma and converting it into a list of integers\n",
        "    arr = [int(x) for x in arr.split(',')]\n",
        "    print(arr)\n",
        "\n",
        "    # Initialize two variables to store the smallest and second smallest integers\n",
        "    smallest = second_smallest = float('inf')\n",
        "    print(smallest)\n",
        "\n",
        "    # Loop through each element in the array\n",
        "    for num in arr:\n",
        "        # Update smallest and second_smallest accordingly\n",
        "        if num < smallest:\n",
        "            second_smallest = smallest\n",
        "            print(num)\n",
        "            smallest = num\n",
        "        elif num < second_smallest and num != smallest:\n",
        "            second_smallest = num\n",
        "\n",
        "    # Return the second smallest integer\n",
        "    return second_smallest\n",
        "\n",
        "# Take input from the user\n",
        "input_array = input(\"Enter comma-separated integers: \")\n",
        "\n",
        "# Call the function and print the result\n",
        "print(\"Second smallest integer:\", second_smallest(input_array))\n"
      ]
    },
    {
      "cell_type": "code",
      "execution_count": null,
      "metadata": {
        "colab": {
          "base_uri": "https://localhost:8080/"
        },
        "id": "a8TExnjI93OO",
        "outputId": "45f9c2e4-8966-4c75-ba19-58f2a7b60739"
      },
      "outputs": [
        {
          "name": "stdout",
          "output_type": "stream",
          "text": [
            "{'l'}\n",
            "{'l', 'o'}\n",
            "{'l', 'o'}\n",
            "{'l', 'o'}\n"
          ]
        }
      ],
      "source": [
        "#matching char\n",
        "def get_matching_characters(string):\n",
        "    unique_characters = set()\n",
        "    matching_characters = set()\n",
        "\n",
        "    for char in string:\n",
        "        if char in unique_characters:\n",
        "            matching_characters.add(char)\n",
        "            print(matching_characters)\n",
        "\n",
        "        else:\n",
        "            unique_characters.add(char)\n",
        "\n",
        "    return matching_characters\n",
        "\n",
        "# Example usage\n",
        "string = \"hello world\"\n",
        "print(get_matching_characters(string))\n"
      ]
    },
    {
      "cell_type": "code",
      "execution_count": null,
      "metadata": {
        "colab": {
          "base_uri": "https://localhost:8080/"
        },
        "id": "BBAbXbpTB15m",
        "outputId": "6658af7d-803f-40c3-f137-2889ed7a1774"
      },
      "outputs": [
        {
          "name": "stdout",
          "output_type": "stream",
          "text": [
            "Enter a number: 11\n",
            "2 11\n",
            "3 11\n",
            "11 is prime\n"
          ]
        }
      ],
      "source": [
        "#prime no\n",
        "def is_prime(num):\n",
        "    if num < 2:\n",
        "        return False\n",
        "    for i in range(2, int(num**0.5) + 1):\n",
        "        if num % i == 0:\n",
        "            return False\n",
        "        print(i,num)\n",
        "    return True\n",
        "\n",
        "input_num = int(input(\"Enter a number: \"))\n",
        "print(input_num, \"is prime\" if is_prime(input_num) else \"is not prime\")\n",
        "\n"
      ]
    },
    {
      "cell_type": "code",
      "execution_count": null,
      "metadata": {
        "colab": {
          "base_uri": "https://localhost:8080/"
        },
        "id": "3f__CaCaCtAl",
        "outputId": "88e5cbf5-7843-449a-efcb-4e2c9b0c985a"
      },
      "outputs": [
        {
          "name": "stdout",
          "output_type": "stream",
          "text": [
            "    1\n",
            "   232\n",
            "  34543\n",
            " 4567654\n"
          ]
        }
      ],
      "source": [
        "#print pattern\n",
        "def print_pattern(n):\n",
        "    for i in range(1, n + 1):\n",
        "        print(\" \" * (n - i), end=\" \")\n",
        "        for j in range(i, 2 * i):\n",
        "            print(j, end=\"\")\n",
        "        for j in range(2 * i - 2, i - 1, -1):\n",
        "            print(j, end=\"\")\n",
        "        print()\n",
        "\n",
        "print_pattern(4)\n"
      ]
    },
    {
      "cell_type": "code",
      "execution_count": null,
      "metadata": {
        "colab": {
          "base_uri": "https://localhost:8080/"
        },
        "id": "IjHkmNokIj2f",
        "outputId": "2ddde49c-2857-4f4e-9797-54b6494abed9"
      },
      "outputs": [
        {
          "output_type": "stream",
          "name": "stdout",
          "text": [
            "Enter a string: hello\n",
            "Unique permutations:\n",
            "ehllo ehlol eholl elhlo elhol ellho elloh elohl elolh eohll eolhl eollh hello helol heoll hlelo hleol hlleo hlloe hloel hlole hoell holel holle lehlo lehol lelho leloh leohl leolh lhelo lheol lhleo lhloe lhoel lhole lleho lleoh llheo llhoe lloeh llohe loehl loelh lohel lohle loleh lolhe oehll oelhl oellh ohell ohlel ohlle olehl olelh olhel olhle olleh ollhe "
          ]
        }
      ],
      "source": [
        "#parmutation\n",
        "def swap(string, i, j):\n",
        "    temp = string[i]\n",
        "    string[i] = string[j]\n",
        "    string[j] = temp\n",
        "\n",
        "def generate_permutations(string, start, end, result):\n",
        "    if start == end:\n",
        "        result.append(''.join(string))\n",
        "    else:\n",
        "        for i in range(start, end + 1):\n",
        "            # Check for duplicates\n",
        "            if string[start:i].count(string[i]) > 0:\n",
        "                continue\n",
        "            swap(string, start, i)\n",
        "            generate_permutations(string, start + 1, end, result)\n",
        "            swap(string, start, i)\n",
        "\n",
        "def print_unique_permutations(input_string):\n",
        "    string = list(input_string)\n",
        "    result = []\n",
        "    generate_permutations(string, 0, len(string) - 1, result)\n",
        "    result.sort()\n",
        "    for perm in result:\n",
        "        print(perm, end=' ')\n",
        "\n",
        "# Take input from the user\n",
        "input_string = input(\"Enter a string: \")\n",
        "\n",
        "# Call the function and print the result\n",
        "print(\"Unique permutations:\")\n",
        "print_unique_permutations(input_string)\n"
      ]
    }
  ],
  "metadata": {
    "colab": {
      "provenance": [],
      "authorship_tag": "ABX9TyMqSyB9MK/TbgVWmXsj2H17",
      "include_colab_link": true
    },
    "kernelspec": {
      "display_name": "Python 3",
      "name": "python3"
    },
    "language_info": {
      "name": "python"
    }
  },
  "nbformat": 4,
  "nbformat_minor": 0
}